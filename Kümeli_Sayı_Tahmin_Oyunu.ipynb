{
  "nbformat": 4,
  "nbformat_minor": 0,
  "metadata": {
    "colab": {
      "name": "Kümeli Sayı Tahmin Oyunu",
      "provenance": [],
      "collapsed_sections": [],
      "authorship_tag": "ABX9TyMJbwgwrvXWUQ8wKmnQ6OPZ",
      "include_colab_link": true
    },
    "kernelspec": {
      "name": "python3",
      "display_name": "Python 3"
    }
  },
  "cells": [
    {
      "cell_type": "markdown",
      "metadata": {
        "id": "view-in-github",
        "colab_type": "text"
      },
      "source": [
        "<a href=\"https://colab.research.google.com/github/m4h1r/ColabPythonSamples/blob/master/K%C3%BCmeli_Say%C4%B1_Tahmin_Oyunu.ipynb\" target=\"_parent\"><img src=\"https://colab.research.google.com/assets/colab-badge.svg\" alt=\"Open In Colab\"/></a>"
      ]
    },
    {
      "cell_type": "markdown",
      "metadata": {
        "id": "JFESy1v2P_7x",
        "colab_type": "text"
      },
      "source": [
        "<h1>Python Kümeli Sayı Tahmin Oyunu</h1>\n",
        "<p>Mahir Yıldızhan\n",
        "<br>\n",
        "\n",
        "[YouTube Video Anlatımı](https://www.youtube.com/watch?v=Bq9f7diDrLE)\n",
        "<br>\n",
        "[Web Sitem: https://mahiryildizhan.com/](https://mahiryildizhan.com/)\n",
        "\n",
        "</p>"
      ]
    },
    {
      "cell_type": "code",
      "metadata": {
        "id": "Gg5E-COMe_UW",
        "colab_type": "code",
        "colab": {}
      },
      "source": [
        "#Kütüphaneden randint fonksiyonunu al.\n",
        "from random import randint\n",
        "#Kullanıcıdan değişkenleri al.\n",
        "kutu = int(input(\"Merhaba, kaç elemanlı bir küme olmasını istersin?\\n\"))\n",
        "aralik = int(input(\"Peki sayıları 1 ile kaç arasında seçeyim?\\n\"))\n",
        "#Kümeleri ve sayaç tanımla.\n",
        "a_dizi, g_dizi = [], []\n",
        "sayac = 1\n",
        "#Rastgele gizli kümeyi oluştur.\n",
        "for x in range(0,kutu):\n",
        "  g_dizi.append(randint(1, aralik))\n",
        "#Gizli küme elemanı kadar açık kümeyi oluştur.\n",
        "for z in range(0,len(g_dizi)):\n",
        "  a_dizi.append(\"_\")\n",
        "#Kullanıcıdan girdi alma döngüsüne gir.\n",
        "while True:\n",
        "  girdi = int(input(\"Lütfen \"+ str(sayac)+ \". tahminini gir:\\n\"))\n",
        "  #Kullanıcıdan aldığın girdiyi sorgula.\n",
        "  for y in range(0, len(g_dizi)):\n",
        "    if (g_dizi[y]==girdi):\n",
        "      a_dizi[y]=girdi\n",
        "  #Yeni açık diziyi yayınla.\n",
        "  print(a_dizi)\n",
        "  #Sayacı arttır.\n",
        "  sayac+=1\n",
        "  #Eğer tüm kümeler eşleşiyorsa sorgula.\n",
        "  if(a_dizi==g_dizi):\n",
        "    print(\"Tebrikler \"+str(sayac-1)+ \". denemede doğru kümeyi buldun.\" )\n",
        "    break"
      ],
      "execution_count": null,
      "outputs": []
    }
  ]
}