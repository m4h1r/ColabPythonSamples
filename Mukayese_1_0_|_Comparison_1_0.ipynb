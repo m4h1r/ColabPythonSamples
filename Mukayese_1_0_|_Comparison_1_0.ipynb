{
  "nbformat": 4,
  "nbformat_minor": 0,
  "metadata": {
    "colab": {
      "name": "Mukayese 1.0 | Comparison 1.0",
      "provenance": [],
      "collapsed_sections": [],
      "include_colab_link": true
    },
    "kernelspec": {
      "name": "python3",
      "display_name": "Python 3"
    }
  },
  "cells": [
    {
      "cell_type": "markdown",
      "metadata": {
        "id": "view-in-github",
        "colab_type": "text"
      },
      "source": [
        "<a href=\"https://colab.research.google.com/github/m4h1r/ColabPythonSamples/blob/master/Mukayese_1_0_%7C_Comparison_1_0.ipynb\" target=\"_parent\"><img src=\"https://colab.research.google.com/assets/colab-badge.svg\" alt=\"Open In Colab\"/></a>"
      ]
    },
    {
      "cell_type": "markdown",
      "metadata": {
        "id": "WbuQwm_wh_tv",
        "colab_type": "text"
      },
      "source": [
        "# Mukayese 1.0\n",
        "Bu proje enerjisini hangi fikirlere harcayacağını bilemeyen kişiler için, Tüm insanlar kısıtlı zaman ve enerjiye sahiptir. Fakat bir çok fikir ve düşüncesi vardır. Sıra hangi fikirlere öncelik vereceğimize geldiğinde, karar veremeyiz. Bende bu kişilerden birisiyim. Bu yüzden hangi projenin diğerlerinden daha önemli olduğunu anlamama yardımcı olacak bu projeyi oluşturmaya karar verdim. İşte \"Mukayese 1.0\"\n",
        "\n",
        "Mahir Yıldızhan\n",
        "\n",
        "[mahiryildizhan.com](https://mahiryildizhan.com)\n",
        "\n",
        "[YouTube](https://www.youtube.com/c/MahiryildizhanYazilim-Teknoloji?sub_confirmation=1)  |  [GitHub](https://github.com/m4h1r)\n",
        "  \n",
        "# Comparison 1.0\n",
        "\n",
        "This project is for the one who doesn't know how to spend his/her energy when you compare the ideas. All humans has limited time and limited energy. But we have lots of ideas. When we try to understand which project is importand then others, we couldn't decide. And I am one of them too. So I decided to create a small project which helps me to decide which ideas important then others. Here is \"Comparison 1.0\"\n",
        "\n",
        "All you have to do is give the project  names and quantities. Then you can compare them with two pieces.\n",
        "\n",
        "Mahir Yıldızhan\n",
        "\n",
        "[mahiryildizhan.com](https://mahiryildizhan.com)\n",
        "\n",
        "[YouTube](https://www.youtube.com/c/MahiryildizhanYazilim-Teknoloji?sub_confirmation=1)  |  [GitHub](https://github.com/m4h1r)\n",
        "  "
      ]
    },
    {
      "cell_type": "code",
      "metadata": {
        "id": "vJQz4-MKDcaE",
        "colab_type": "code",
        "colab": {}
      },
      "source": [
        "n=input(\"Kaç projeniz var? \") #Proje sayısını al. #Took project quantites.\n",
        "n=int(n) #Girdiyi sayıya çevir. #Convert input to integer.\n",
        "L = [0]*n #Proje listesini oluştur. #Create the projects List\n",
        "P = [0]*n #Puan listesini oluştur.  #Create the points List\n",
        "for a in range(0, n): #Proje isimlerini topla. #Collect the project names.\n",
        "  L[a]=input(str(a+1)+\". Proje Adı=\") #Kullanım açıklaması #Usage Explanation\n",
        "print(\"\"\" \n",
        "******************TR**************************************\n",
        "Başta belirttiğiniz projeler ikili sıralar halinde gelecek.\n",
        "Gelen projelerin önemine göre değerlendirme yapınız.\n",
        "İlk proje sizin için daha önemli ise \"1\"\n",
        "İkinci proje sizin için daha önemli ise \"2\"\n",
        "Eğer eşit öneme sahipse \"0\" ya da boş geçin.\n",
        "******************ENG**************************************\n",
        "Projects which you define will appaire 2 by 2.\n",
        "Give your value according to your importance of projects.\n",
        "If the first project is more important to you \"1\"\n",
        "If the second project is more important to you \"2\"\n",
        "If equal, switch to \"0\" or empty.\n",
        "\"\"\")\n",
        "for i in range(0, len(L)): #Projeleri karşılaştır #Compare projects\n",
        "  for j in range(i,len(L)):\n",
        "    if(L[i]==L[j]):\n",
        "      continue\n",
        "    cevap = input(L[i]+\" vs \"+L[j]+\" = \")\n",
        "    if(cevap==\"1\"):\n",
        "      P[i]+=1\n",
        "    elif(cevap==\"2\"):\n",
        "      P[j]+=1\n",
        "for k in range(0,n): #Sonuçları yazdır #Print results\n",
        "  print(str(P[k])+\":\"+str(L[k]))"
      ],
      "execution_count": 0,
      "outputs": []
    }
  ]
}