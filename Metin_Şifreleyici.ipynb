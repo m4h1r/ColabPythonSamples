{
  "nbformat": 4,
  "nbformat_minor": 0,
  "metadata": {
    "colab": {
      "name": "Metin Şifreleyici",
      "provenance": [],
      "collapsed_sections": [],
      "include_colab_link": true
    },
    "kernelspec": {
      "name": "python3",
      "display_name": "Python 3"
    }
  },
  "cells": [
    {
      "cell_type": "markdown",
      "metadata": {
        "id": "view-in-github",
        "colab_type": "text"
      },
      "source": [
        "<a href=\"https://colab.research.google.com/github/m4h1r/ColabPythonSamples/blob/master/Metin_%C5%9Eifreleyici.ipynb\" target=\"_parent\"><img src=\"https://colab.research.google.com/assets/colab-badge.svg\" alt=\"Open In Colab\"/></a>"
      ]
    },
    {
      "cell_type": "markdown",
      "metadata": {
        "id": "WbuQwm_wh_tv",
        "colab_type": "text"
      },
      "source": [
        "# Metin Şifreleyici/Çözücü\n",
        "Bu basit proje ile bir şifreleme algoritması oluşturacağız ve kullanıcıdan aldığımız mesajı şifreleyeceğiz. 2 ayrı kod bloğumuz olacak. Birincisi mesajı şifrelemek, ikincisi şifreli mesajı çözmek ve kullanıcıya göstermek için.\n",
        "\n",
        "Mahir Yıldızhan\n",
        "\n",
        "[mahiryildizhan.com](https://mahiryildizhan.com)\n",
        "\n",
        "[YouTube](https://www.youtube.com/c/MahiryildizhanYazilim-Teknoloji?sub_confirmation=1)  |  [GitHub](https://github.com/m4h1r)\n",
        "  \n",
        "# Text Encoder/Decoder\n",
        "\n",
        "With this simple project, we will create a encryption algorithm and encrypt the message which we receive from the user. We will have 2 separated code blocks. First one is to encrypt the message, second one is to decode the encrypted message and show it to the user.\n",
        "\n",
        "Mahir Yıldızhan\n",
        "\n",
        "[mahiryildizhan.com](https://mahiryildizhan.com)\n",
        "\n",
        "[YouTube](https://www.youtube.com/c/MahiryildizhanYazilim-Teknoloji?sub_confirmation=1)  |  [GitHub](https://github.com/m4h1r)\n",
        "  "
      ]
    },
    {
      "cell_type": "code",
      "metadata": {
        "id": "vJQz4-MKDcaE",
        "colab_type": "code",
        "colab": {}
      },
      "source": [
        "#Encoder #Şifreleyici\n",
        "######################\n",
        "#Import Library #Kütüphane Ekle\n",
        "from random import randint\n",
        "#Get Message #Mesajı Al\n",
        "Metin = input(\"Lütfen şifrelemek istediğiniz metni gönderin.\")\n",
        "#Variables #Değişkenler\n",
        "SifreliMetin = []\n",
        "#Create Random Key #Rastgele Anahtar Oluştur\n",
        "Anahtar = randint(0,100)\n",
        "#Add Key #Anahtarı Ekle\n",
        "SifreliMetin.append(Anahtar)\n",
        "#Encoding #Şifreleme\n",
        "for x in range(0, len(Metin)):\n",
        "  SifreliMetin.append(ord(Metin[x])+Anahtar)\n",
        "  Anahtar+=1\n",
        "#Print Encoded Message #Şifreli Mesajı Yazdır\n",
        "print(SifreliMetin)"
      ],
      "execution_count": 0,
      "outputs": []
    },
    {
      "cell_type": "code",
      "metadata": {
        "id": "jxOyY4lhsG1-",
        "colab_type": "code",
        "colab": {}
      },
      "source": [
        "#Decoder #Şifre Çözücü\n",
        "######################\n",
        "#Get Key #Anahtarı Al\n",
        "Anahtar = SifreliMetin[0]\n",
        "#Variables #Değişkenler\n",
        "CozulmusMetin = []\n",
        "DuzMetin = \"\"\n",
        "#Delete Key #Anahtarı Sil\n",
        "SifreliMetin.pop(0)\n",
        "#Decoding #Şifre Çözme\n",
        "for x in range(0,len(SifreliMetin)):\n",
        "  CozulmusMetin.append(chr(SifreliMetin[x]-Anahtar))\n",
        "  Anahtar+=1\n",
        "for h in CozulmusMetin:\n",
        "  DuzMetin = DuzMetin + h\n",
        "#Print Decoded Message #Çözülmüş Mesajı Yazdır\n",
        "print(\"Çözülmüş Mesaj: \" + DuzMetin)"
      ],
      "execution_count": 0,
      "outputs": []
    }
  ]
}