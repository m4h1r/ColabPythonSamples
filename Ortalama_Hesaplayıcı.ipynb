{
  "nbformat": 4,
  "nbformat_minor": 0,
  "metadata": {
    "colab": {
      "name": "Ortalama Hesaplayıcı",
      "provenance": [],
      "collapsed_sections": [],
      "include_colab_link": true
    },
    "kernelspec": {
      "name": "python3",
      "display_name": "Python 3"
    }
  },
  "cells": [
    {
      "cell_type": "markdown",
      "metadata": {
        "id": "view-in-github",
        "colab_type": "text"
      },
      "source": [
        "<a href=\"https://colab.research.google.com/github/m4h1r/ColabPythonSamples/blob/master/Ortalama_Hesaplay%C4%B1c%C4%B1.ipynb\" target=\"_parent\"><img src=\"https://colab.research.google.com/assets/colab-badge.svg\" alt=\"Open In Colab\"/></a>"
      ]
    },
    {
      "cell_type": "markdown",
      "metadata": {
        "id": "WbuQwm_wh_tv",
        "colab_type": "text"
      },
      "source": [
        "# Ortalama Hesaplayıcı\n",
        "Bu basit proje ile, sınav ortalamanızı hesaplayabilirsin. Kaç tane vizen olduğunu, kaç tane finalin olduğunu ve ağırlıklı yüzdelerini gireceksin. Geçme notunuzu ve sınav sonuçlarınızı girdiğinde program ortalamanı hesaplayıp verecek.\n",
        "\n",
        "Mahir Yıldızhan\n",
        "\n",
        "[mahiryildizhan.com](https://mahiryildizhan.com)\n",
        "\n",
        "[YouTube](https://www.youtube.com/c/MahiryildizhanYazilim-Teknoloji?sub_confirmation=1)  |  [GitHub](https://github.com/m4h1r)\n",
        "  \n",
        "# Average Calculator\n",
        "\n",
        "With this simple project, you can calculate your exam average. You will enter how many visas you have, how many finals you have, and the weighted percentages. When you enter your passing grade and exam results, the program will calculate and give your average.\n",
        "\n",
        "Mahir Yıldızhan\n",
        "\n",
        "[mahiryildizhan.com](https://mahiryildizhan.com)\n",
        "\n",
        "[YouTube](https://www.youtube.com/c/MahiryildizhanYazilim-Teknoloji?sub_confirmation=1)  |  [GitHub](https://github.com/m4h1r)\n",
        "  "
      ]
    },
    {
      "cell_type": "code",
      "metadata": {
        "id": "vJQz4-MKDcaE",
        "colab_type": "code",
        "outputId": "e3dcc8f5-0eb5-4046-b18a-f586b7ab0e9c",
        "colab": {
          "base_uri": "https://localhost:8080/",
          "height": 272
        }
      },
      "source": [
        "#Define Variables #Değişkenleri Tanımla\n",
        "VizeAdet = input(\"Kaç adet vize sınavına giriyorsun: \")\n",
        "VizeAdet = int(VizeAdet)\n",
        "FinalAdet = input(\"Kaç adet final sınavına giriyorsun: \")\n",
        "FinalAdet = int(FinalAdet)\n",
        "Vizeler = []\n",
        "Finaller = []\n",
        "Ortalama = 0\n",
        "#Take Exam Inputs #Sınav Girdilerini Al\n",
        "for x in range(1,VizeAdet+1):\n",
        "  Not = input(str(x)+\". Vize sonucun kaç: \")\n",
        "  Vizeler.append(Not)\n",
        "print(\"Vize : \"+ str(Vizeler))\n",
        "VizeYuzdesi = input(\"Vizelerin yüzdesel etkisi kaç (10, 20 şeklinde gir.): \")\n",
        "VizeYuzdesi = int(VizeYuzdesi)\n",
        "for x in range(1,FinalAdet+1):\n",
        "  Not = input(str(x)+\". Final sonucun kaç: \")\n",
        "  Finaller.append(Not)\n",
        "print(\"Final : \"+ str(Finaller))\n",
        "FinalYuzdesi = input(\"Finalin yüzdesel etkisi kaç (60, 70 şeklinde gir.): \")\n",
        "FinalYuzdesi = int(FinalYuzdesi)\n",
        "GecmeNotu = input(\"Geçme notun kaç: \")\n",
        "GecmeNotu = int(GecmeNotu)\n",
        "#Calculations #Hesaplamalar\n",
        "for x in range(1,VizeAdet+1):\n",
        "  Etki = float(int(Vizeler[x-1])*VizeYuzdesi/100)\n",
        "  Ortalama = Ortalama + Etki\n",
        "for x in range(1,FinalAdet+1):\n",
        "  Etki = float(int(Finaller[x-1])*FinalYuzdesi/100)\n",
        "  Ortalama = Ortalama + Etki\n",
        "#Round result #Sonucu yuvarla\n",
        "Ortalama = round(Ortalama, 2)\n",
        "#Show Result #Sonucu Göster\n",
        "if(Ortalama<GecmeNotu):\n",
        "  print(\"Üzgünüm, ortalaman: \" + str(Ortalama) + \", kaldın.\")\n",
        "  print(\"Bu ders için daha fazla çalışman gerek. Seneye başaracağından eminim.\")\n",
        "if(Ortalama>=GecmeNotu):\n",
        "  print(\"Tebrikler, ortalaman: \" + str(Ortalama) + \", geçtin.\")\n",
        "  print(\"Başarının tüm derslerinde aynı olmasını dilerim.\")"
      ],
      "execution_count": 0,
      "outputs": [
        {
          "output_type": "stream",
          "text": [
            "Kaç adet vize sınavına giriyorsun: 4\n",
            "Kaç adet final sınavına giriyorsun: 2\n",
            "1. Vize sonucun kaç: 85\n",
            "2. Vize sonucun kaç: 65\n",
            "3. Vize sonucun kaç: 75\n",
            "4. Vize sonucun kaç: 95\n",
            "Vize : ['85', '65', '75', '95']\n",
            "Vizelerin yüzdesel etkisi kaç (10, 20 şeklinde gir.): 10\n",
            "1. Final sonucun kaç: 75\n",
            "2. Final sonucun kaç: 95\n",
            "Final : ['75', '95']\n",
            "Finalin yüzdesel etkisi kaç (60, 70 şeklinde gir.): 30\n",
            "Geçme notun kaç: 65\n",
            "Tebrikler, ortalaman: 83.0, geçtin.\n",
            "Başarının tüm derslerinde aynı olmasını dilerim.\n"
          ],
          "name": "stdout"
        }
      ]
    }
  ]
}