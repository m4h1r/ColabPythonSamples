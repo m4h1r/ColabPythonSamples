{
  "nbformat": 4,
  "nbformat_minor": 0,
  "metadata": {
    "colab": {
      "name": "Sayı Tahmin Oyunu",
      "provenance": [],
      "collapsed_sections": [],
      "include_colab_link": true
    },
    "kernelspec": {
      "name": "python3",
      "display_name": "Python 3"
    }
  },
  "cells": [
    {
      "cell_type": "markdown",
      "metadata": {
        "id": "view-in-github",
        "colab_type": "text"
      },
      "source": [
        "<a href=\"https://colab.research.google.com/github/m4h1r/ColabPythonSamples/blob/master/Say%C4%B1_Tahmin_Oyunu.ipynb\" target=\"_parent\"><img src=\"https://colab.research.google.com/assets/colab-badge.svg\" alt=\"Open In Colab\"/></a>"
      ]
    },
    {
      "cell_type": "markdown",
      "metadata": {
        "id": "WbuQwm_wh_tv",
        "colab_type": "text"
      },
      "source": [
        "# Sayı Tahmin Oyunu\n",
        "Bu proje, kullanıcı ile etkileşimli basit bir oyun olacak. Program, 1 ile 100 arasında rastgele bir sayı belirleyecek. Kullanıcı bu sayıları 5 seferde tahmin etmeye çalışacak. 5 hakkında da doğru tahmin edemezse oyun sona erecek. Her tahminden sonra kullanıcıya tahminden hangi yönde farklı olduğu bilgisi de verilecek.\n",
        "\n",
        "Mahir Yıldızhan\n",
        "\n",
        "[mahiryildizhan.com](https://mahiryildizhan.com)\n",
        "\n",
        "[YouTube](https://www.youtube.com/c/MahiryildizhanYazilim-Teknoloji?sub_confirmation=1)  |  [GitHub](https://github.com/m4h1r)\n",
        "  \n",
        "# Number Guess Game\n",
        "This project will be a simple game that is interactive with the user. The program sets a random number between 1 and 100. User will guess the number in 5 times. If you cannot guess correctly in 5, the game will end. After each guess, program will tell your guess is high or low.\n",
        "\n",
        "\n",
        "Mahir Yıldızhan\n",
        "\n",
        "[mahiryildizhan.com](https://mahiryildizhan.com)\n",
        "\n",
        "[YouTube](https://www.youtube.com/c/MahiryildizhanYazilim-Teknoloji?sub_confirmation=1)  |  [GitHub](https://github.com/m4h1r)\n",
        "  "
      ]
    },
    {
      "cell_type": "code",
      "metadata": {
        "id": "vJQz4-MKDcaE",
        "colab_type": "code",
        "cellView": "code",
        "colab": {}
      },
      "source": [
        "#Import Libraries\n",
        "#Kütüphane Eklemeleri\n",
        "from random import randint\n",
        "\n",
        "print(\"\"\" \n",
        "Sayı Tahmin Oyunu'na hoş geldin. \n",
        "Aklımdan 1 ile 100 arasında bir sayı tuttum. :)\n",
        "\"\"\")\n",
        "#Define random number\n",
        "#Rastgele sayı belirle\n",
        "Sayi = randint(1,100)\n",
        "Can = 5\n",
        "#Start the game\n",
        "#Oyunu başlat\n",
        "while True:\n",
        "  if(Can==5):\n",
        "    Tahmin = input(\"Tahminin: \")\n",
        "    #Block the empty and out range inputs\n",
        "    #Boş ve geçersiz girişleri engelle\n",
        "    if(Tahmin==\"\" or int(Tahmin)>100):\n",
        "      print(\"Tahminin 100'den büyük yada boş olamaz, hakkını azaltmıyorum. Ancak dikkat et!\")\n",
        "      continue\n",
        "    #Win output\n",
        "    #Kazanma çıktısı\n",
        "    if(int(Tahmin)==Sayi):\n",
        "      print(\"Tebrikler :) doğru tahmin. \"+str(Sayi)+\" sayısını seçmiştim.\")\n",
        "      break\n",
        "    Can-=1\n",
        "  #Print if your guess is low\n",
        "  #Tahminin küçük kaldı ise yazdır\n",
        "  elif(int(Tahmin)<Sayi):\n",
        "    Tahmin = input(\"Aşağıda kaldın. Daha büyük bir sayı seç: \")\n",
        "    #Win output\n",
        "    #Kazanma çıktısı\n",
        "    if(int(Tahmin)==Sayi):\n",
        "      print(\"Tebrikler :) doğru tahmin. \"+str(Sayi)+\" sayısını seçmiştim.\")\n",
        "      break\n",
        "    Can-=1\n",
        "  #Print if your guess is high\n",
        "  #Tahminin büyük kaldı ise yazdır\n",
        "  elif(int(Tahmin)>Sayi):\n",
        "    Tahmin = input(\"Yukarıda kaldın. Daha küçük bir sayı seç: \")\n",
        "    #Win output\n",
        "    #Kazanma çıktısı\n",
        "    if(Tahmin==Sayi):\n",
        "      print(\"Tebrikler :) doğru tahmin. \"+str(Sayi)+\" sayısını seçmiştim.\")\n",
        "      break\n",
        "    Can-=1\n",
        "  #End game\n",
        "  #Oyunu bitir\n",
        "  if(Can==0):\n",
        "    print(\"Üzgünüm :( hakkın bitti. \"+str(Sayi)+\" sayısını seçmiştim.\")\n",
        "    break"
      ],
      "execution_count": 0,
      "outputs": []
    }
  ]
}