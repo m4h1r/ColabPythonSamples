{
  "nbformat": 4,
  "nbformat_minor": 0,
  "metadata": {
    "colab": {
      "name": "3 Basamaklı Sayı Tahmin Oyunu",
      "provenance": [],
      "collapsed_sections": [],
      "authorship_tag": "ABX9TyPPLi6de98ixMN0E9tslFdd",
      "include_colab_link": true
    },
    "kernelspec": {
      "name": "python3",
      "display_name": "Python 3"
    }
  },
  "cells": [
    {
      "cell_type": "markdown",
      "metadata": {
        "id": "view-in-github",
        "colab_type": "text"
      },
      "source": [
        "<a href=\"https://colab.research.google.com/github/m4h1r/ColabPythonSamples/blob/master/3_Basamakl%C4%B1_Say%C4%B1_Tahmin_Oyunu.ipynb\" target=\"_parent\"><img src=\"https://colab.research.google.com/assets/colab-badge.svg\" alt=\"Open In Colab\"/></a>"
      ]
    },
    {
      "cell_type": "markdown",
      "metadata": {
        "id": "JFESy1v2P_7x",
        "colab_type": "text"
      },
      "source": [
        "<h1>Python 3 Basamaklı Sayı Tahmin Oyunu</h1>\n",
        "<p>Mahir Yıldızhan\n",
        "<br>\n",
        "\n",
        "[YouTube Video Anlatımı](https://youtu.be/lU_iGBIc8VI)\n",
        "<br>\n",
        "[Web Sitem: https://mahiryildizhan.com/](https://mahiryildizhan.com/)\n",
        "\n",
        "</p>"
      ]
    },
    {
      "cell_type": "code",
      "metadata": {
        "id": "_B_EtBo_5DVs",
        "colab_type": "code",
        "colab": {}
      },
      "source": [
        "#Kütüphaneden randint fonksiyonunu al.\n",
        "from random import randint\n",
        "#Rastgele 100-999 arasında 3 basamaklı bir sayı oluştur.\n",
        "x = randint(100, 999)\n",
        "#Sayıyı metine dönüştür.\n",
        "strx = str(x)\n",
        "#Kullanıcıya tahmin için hak tanımla.\n",
        "hak = 5\n",
        "print(\"Aklımdan üç basamaklı bir sayı tuttum :) Sana da 5 hak verdim. Hadi sende tahmin et.\")\n",
        "#Kullanıcının hakkı kadar döngüye gir.\n",
        "for z in range(hak):\n",
        "  #Kullanıcıdan tahminini al.\n",
        "  y = input(\"Tahminin\\n\")\n",
        "  #Kullanıcı tahminini metne dönüştür.\n",
        "  stry = str(y)\n",
        "  #Kullanıcının giriş 3 haneli mi kontrol et.\n",
        "  if(len((stry))==3):\n",
        "    if(strx==stry):#Kullanıcı tam rakamı doğru bildiyse ekrana yazdır.\n",
        "      print(\"Woooow, tebrikler tüm sayıları bildin :)\")\n",
        "      break #Döngüden çık.\n",
        "    else:\n",
        "      #Kullanıcın girdiği değerleri tekil rakamlar ile karşılaştır.\n",
        "      for rakam in range(0,3):\n",
        "        if(strx[rakam]==stry[rakam]):\n",
        "          #Doğru olan basamak bilgisini ver.\n",
        "          print(str(rakam+1)+\". basamak doğru\")\n",
        "        else:\n",
        "          #Yanlış olan basamak bilgisini ver.\n",
        "          print(str(rakam+1)+\". basamak yanlış\")\n",
        "  else:\n",
        "    #3 haneli girdi olmazsa uyarı mesajı ver.\n",
        "    print(\"3 basamaklı bir sayı girmen gerek.\")\n",
        "if(strx!=stry):\n",
        "  #Kullanıcının hakkı biterse uyarı mesajı ver.\n",
        "  print(\"Üzgünüm, \"+strx+\" sayısını tutmuştum. Hakların bitti.\")"
      ],
      "execution_count": null,
      "outputs": []
    }
  ]
}